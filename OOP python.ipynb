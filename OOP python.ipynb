{
 "cells": [
  {
   "cell_type": "code",
   "execution_count": 1,
   "metadata": {},
   "outputs": [],
   "source": [
    "class edureka():\n",
    "    def __init__(self):\n",
    "        self.__pri=(\"I am Private\")\n",
    "        self._pro=(\"I am Protected\")\n",
    "        self.pub=(\"I am Public\")\n",
    "    def __privateMethod(self):\n",
    "        print(\"In Private Method\")\n"
   ]
  },
  {
   "cell_type": "code",
   "execution_count": 2,
   "metadata": {},
   "outputs": [],
   "source": [
    "ob=edureka()\n"
   ]
  },
  {
   "cell_type": "code",
   "execution_count": 3,
   "metadata": {},
   "outputs": [
    {
     "name": "stdout",
     "output_type": "stream",
     "text": [
      "I am Public\n",
      "I am Protected\n",
      "I am Private\n"
     ]
    }
   ],
   "source": [
    "print(ob.pub)\n",
    "print(ob._pro)\n",
    "# print(ob.__pri)\n",
    "# print(ob.__privateMethod)\n",
    "print(ob._edureka__pri)\n",
    "# print(ob.edureka__privateMethod())"
   ]
  },
  {
   "cell_type": "code",
   "execution_count": 21,
   "metadata": {},
   "outputs": [],
   "source": [
    "\n",
    "class edureka():\n",
    "    def __init__(self,fname,lname,adhar):\n",
    "        self.__lname=lname\n",
    "        self._adhar=adhar\n",
    "        self.fname=fname\n",
    "    def __privateMethod(self):\n",
    "        print(\"In Private Method\")\n"
   ]
  },
  {
   "cell_type": "code",
   "execution_count": 23,
   "metadata": {},
   "outputs": [
    {
     "ename": "AttributeError",
     "evalue": "'edureka' object has no attribute '__lname'",
     "output_type": "error",
     "traceback": [
      "\u001b[1;31m---------------------------------------------------------------------------\u001b[0m",
      "\u001b[1;31mAttributeError\u001b[0m                            Traceback (most recent call last)",
      "\u001b[1;32m<ipython-input-23-4ac5cdf246b7>\u001b[0m in \u001b[0;36m<module>\u001b[1;34m\u001b[0m\n\u001b[0;32m      1\u001b[0m \u001b[0mob1\u001b[0m\u001b[1;33m=\u001b[0m\u001b[0medureka\u001b[0m\u001b[1;33m(\u001b[0m\u001b[1;34m'akhil'\u001b[0m\u001b[1;33m,\u001b[0m\u001b[1;34m'dudhe'\u001b[0m\u001b[1;33m,\u001b[0m\u001b[1;36m12344\u001b[0m\u001b[1;33m)\u001b[0m\u001b[1;33m\u001b[0m\u001b[1;33m\u001b[0m\u001b[0m\n\u001b[1;32m----> 2\u001b[1;33m \u001b[0mob1\u001b[0m\u001b[1;33m.\u001b[0m\u001b[0m__lname\u001b[0m\u001b[1;33m\u001b[0m\u001b[1;33m\u001b[0m\u001b[0m\n\u001b[0m",
      "\u001b[1;31mAttributeError\u001b[0m: 'edureka' object has no attribute '__lname'"
     ]
    }
   ],
   "source": [
    "ob1=edureka('akhil','dudhe',12344)\n",
    "ob1.__lname"
   ]
  },
  {
   "cell_type": "code",
   "execution_count": 41,
   "metadata": {},
   "outputs": [
    {
     "name": "stdout",
     "output_type": "stream",
     "text": [
      "{'_edureka__pri': 'PRIVATE UPDATED', '_pro': 'hello pro', 'pub': 'hello pub'}\n",
      "{'_edureka__pri': 'PRIVATE UPDATED', '_pro': 'hello pro', 'pub': 'hello pub', '__pri': 'helllo pubg'}\n"
     ]
    }
   ],
   "source": [
    "class edureka():\n",
    "    def __init__(self,pri,pro,pub):\n",
    "        self.__pri=pri\n",
    "        self._pro=pro\n",
    "        self.pub=pub\n",
    "    def privateMethod(self):\n",
    "        self.__pri=pri\n",
    "\n",
    "    \n",
    "ob1=edureka('hello pri','hello pro','hello pub')\n",
    "ob1._edureka__pri='PRIVATE UPDATED'\n",
    "print(ob1.__dict__)\n",
    "\n",
    "ob1.__pri=\"helllo pubg\"\n",
    "print(ob1.__dict__)\n",
    " "
   ]
  },
  {
   "cell_type": "markdown",
   "metadata": {},
   "source": [
    "# Simple Class and Object Instance [Corey vid 1]"
   ]
  },
  {
   "cell_type": "code",
   "execution_count": 53,
   "metadata": {},
   "outputs": [
    {
     "name": "stdout",
     "output_type": "stream",
     "text": [
      "{'first': 'Akhil', 'last': 'Dudhe', 'pay': '2000', 'email': 'Akhil.Dudhe@gmail.com'}\n",
      "{'first': 'Suresh', 'last': 'Patel', 'pay': '4000', 'email': 'Suresh.Patel@gmail.com'}\n",
      "Akhil Dudhe Akhil.Dudhe@gmail.com\n",
      "Akhil Dudhe Akhil.Dudhe@gmail.com\n"
     ]
    }
   ],
   "source": [
    "class Employee():\n",
    "    def __init__(self,first,last,pay):\n",
    "        self.first=first\n",
    "        self.last=last\n",
    "        self.pay=pay\n",
    "        self.email=first+\".\"+last+'@gmail.com'\n",
    "        \n",
    "    def fullname(self):\n",
    "        return f'{self.first} {self.last} {self.email}'\n",
    "    \n",
    "emp_1=Employee('Akhil','Dudhe','2000')\n",
    "emp_2=Employee('Suresh','Patel','4000')\n",
    "\n",
    "print(emp_1.__dict__)\n",
    "print(emp_2.__dict__)\n",
    "print(emp_1.fullname())\n",
    "print(Employee.fullname(emp_1))"
   ]
  },
  {
   "cell_type": "markdown",
   "metadata": {},
   "source": [
    "# Instance Variable and Class Variable [Corey vid 2]"
   ]
  },
  {
   "cell_type": "code",
   "execution_count": 59,
   "metadata": {},
   "outputs": [
    {
     "name": "stdout",
     "output_type": "stream",
     "text": [
      "2000\n",
      "2100\n",
      "{'first': 'Akhil', 'last': 'Dudhe', 'pay': 2100, 'email': 'Akhil.Dudhe@gmail.com'}\n"
     ]
    }
   ],
   "source": [
    "class Employee():\n",
    "    def __init__(self,first,last,pay):\n",
    "        self.first=first\n",
    "        self.last=last\n",
    "        self.pay=pay\n",
    "        self.email=first+\".\"+last+'@gmail.com'\n",
    "        \n",
    "    def fullname(self):\n",
    "        return f'{self.first} {self.last} {self.email}'\n",
    "    \n",
    "    def apply_raise(self):\n",
    "        self.pay = int(self.pay * 1.05)\n",
    "        \n",
    "    \n",
    "emp_1=Employee('Akhil','Dudhe',2000)\n",
    "emp_2=Employee('Suresh','Patel',4000)\n",
    "\n",
    "print(emp_1.pay)\n",
    "emp_1.apply_raise()\n",
    "print(emp_1.pay)\n",
    "print(emp_1.__dict__)\n",
    "\n",
    "\n",
    "# print(emp_2.__dict__)\n"
   ]
  },
  {
   "cell_type": "markdown",
   "metadata": {},
   "source": [
    "### Above Code require hard coding to set raise value"
   ]
  },
  {
   "cell_type": "code",
   "execution_count": 67,
   "metadata": {},
   "outputs": [
    {
     "name": "stdout",
     "output_type": "stream",
     "text": [
      "2\n"
     ]
    }
   ],
   "source": [
    "class Employee():\n",
    "    raise_amount= 1.04\n",
    "    num_of_employess=0\n",
    "    def __init__(self,first,last,pay):\n",
    "        self.first=first\n",
    "        self.last=last\n",
    "        self.pay=pay\n",
    "        self.email=first+\".\"+last+'@gmail.com'\n",
    "        Employee.num_of_employess += 1\n",
    "        \n",
    "    def fullname(self):\n",
    "        return f'{self.first} {self.last} {self.email}'\n",
    "    \n",
    "    def apply_raise(self):\n",
    "        self.pay = int(self.pay * self.raise_amount)\n",
    "#         self.pay = int(self.pay * Employee.raise_amount)\n",
    "#         The above will always raise amount from employee and not raise amount from instance itself\n",
    "        \n",
    "    \n",
    "emp_1=Employee('Akhil','Dudhe',3000)\n",
    "emp_2=Employee('Suresh','Patel',4000)\n",
    "\n",
    "# print(emp_1.pay)\n",
    "# emp_1.apply_raise()\n",
    "# print(emp_1.pay)\n",
    "\n",
    "# print(emp_1.__dict__)\n",
    "# print()\n",
    "# print(emp_2.__dict__)\n",
    "# print()\n",
    "# print(Employee.__dict__)\n",
    "\n",
    "print(Employee.num_of_employess)"
   ]
  },
  {
   "cell_type": "markdown",
   "metadata": {},
   "source": [
    "# Regular Methods, Class Methods and Static Methods  [Corey vid 3]"
   ]
  },
  {
   "cell_type": "markdown",
   "metadata": {},
   "source": [
    "## Class Method"
   ]
  },
  {
   "cell_type": "code",
   "execution_count": 76,
   "metadata": {},
   "outputs": [
    {
     "name": "stdout",
     "output_type": "stream",
     "text": [
      "John.Doe@gmail.com\n",
      "7000\n"
     ]
    }
   ],
   "source": [
    "class Employee():\n",
    "    raise_amount= 1.04\n",
    "    num_of_employess=0\n",
    "    def __init__(self,first,last,pay):\n",
    "        self.first=first\n",
    "        self.last=last\n",
    "        self.pay=pay\n",
    "        self.email=first+\".\"+last+'@gmail.com'\n",
    "        Employee.num_of_employess += 1\n",
    "        \n",
    "    def fullname(self):\n",
    "        return f'{self.first} {self.last} {self.email}'\n",
    "    \n",
    "    def apply_raise(self):\n",
    "        self.pay = int(self.pay * self.raise_amount)\n",
    "#         self.pay = int(self.pay * Employee.raise_amount)\n",
    "#         The above will always raise amount from employee and not raise amount from instance itself\n",
    "    @classmethod\n",
    "    def set_raise_amt(cls,amount):\n",
    "        cls.raise_amount=amount\n",
    "        \n",
    "    @classmethod\n",
    "    def from_string(cls,emp_str):\n",
    "        first,last,pay=emp_str.split('-')\n",
    "        return cls(first,last,pay)\n",
    "    \n",
    "    \n",
    "# emp_1=Employee('Akhil','Dudhe',3000)\n",
    "# emp_2=Employee('Suresh','Patel',4000)\n",
    "\n",
    "emp_str_1='John-Doe-7000'\n",
    "emp_str_2='Arya-Stark-8000'\n",
    "\n",
    "new_emp_1=Employee.from_string(emp_str_1)\n",
    "print(new_emp_1.email)\n",
    "print(new_emp_1.pay)\n",
    "\n"
   ]
  },
  {
   "cell_type": "markdown",
   "metadata": {},
   "source": [
    "## Static Method"
   ]
  },
  {
   "cell_type": "code",
   "execution_count": null,
   "metadata": {},
   "outputs": [],
   "source": [
    "# Static method if you dont access instance anywhere in the program you need to do with Static Method"
   ]
  },
  {
   "cell_type": "code",
   "execution_count": 77,
   "metadata": {},
   "outputs": [
    {
     "name": "stdout",
     "output_type": "stream",
     "text": [
      "False\n"
     ]
    }
   ],
   "source": [
    "class Employee():\n",
    "    raise_amount= 1.04\n",
    "    num_of_employess=0\n",
    "    def __init__(self,first,last,pay):\n",
    "        self.first=first\n",
    "        self.last=last\n",
    "        self.pay=pay\n",
    "        self.email=first+\".\"+last+'@gmail.com'\n",
    "        Employee.num_of_employess += 1\n",
    "        \n",
    "    def fullname(self):\n",
    "        return f'{self.first} {self.last} {self.email}'\n",
    "    \n",
    "    def apply_raise(self):\n",
    "        self.pay = int(self.pay * self.raise_amount)\n",
    "#         self.pay = int(self.pay * Employee.raise_amount)\n",
    "#         The above will always raise amount from employee and not raise amount from instance itself\n",
    "    @classmethod\n",
    "    def set_raise_amt(cls,amount):\n",
    "        cls.raise_amount=amount\n",
    "        \n",
    "    @classmethod\n",
    "    def from_string(cls,emp_str):\n",
    "        first,last,pay=emp_str.split('-')\n",
    "        return cls(first,last,pay)\n",
    "   \n",
    "    @staticmethod\n",
    "    def is_workday(day):\n",
    "        if day.weekday()==5 or day.weekday()==6:\n",
    "            return False\n",
    "        return True\n",
    "        \n",
    "    \n",
    "# emp_1=Employee('Akhil','Dudhe',3000)\n",
    "# emp_2=Employee('Suresh','Patel',4000)\n",
    "\n",
    "# emp_str_1='John-Doe-7000'\n",
    "# emp_str_2='Arya-Stark-8000'\n",
    "\n",
    "# new_emp_1=Employee.from_string(emp_str_1)\n",
    "# print(new_emp_1.email)\n",
    "# print(new_emp_1.pay)\n",
    "\n",
    "import datetime\n",
    "my_date=datetime.date(2016,7,10)\n",
    "print(Employee.is_workday(my_date))\n"
   ]
  },
  {
   "cell_type": "markdown",
   "metadata": {},
   "source": [
    "# Python OOP Tutorial 4- Inheritance - Creating Subclasses"
   ]
  },
  {
   "cell_type": "code",
   "execution_count": 1,
   "metadata": {},
   "outputs": [
    {
     "name": "stdout",
     "output_type": "stream",
     "text": [
      "Help on class Developer in module __main__:\n",
      "\n",
      "class Developer(Employee)\n",
      " |  Developer(first, last, pay)\n",
      " |  \n",
      " |  Method resolution order:\n",
      " |      Developer\n",
      " |      Employee\n",
      " |      builtins.object\n",
      " |  \n",
      " |  Methods inherited from Employee:\n",
      " |  \n",
      " |  __init__(self, first, last, pay)\n",
      " |      Initialize self.  See help(type(self)) for accurate signature.\n",
      " |  \n",
      " |  apply_raise(self)\n",
      " |  \n",
      " |  fullname(self)\n",
      " |  \n",
      " |  ----------------------------------------------------------------------\n",
      " |  Data descriptors inherited from Employee:\n",
      " |  \n",
      " |  __dict__\n",
      " |      dictionary for instance variables (if defined)\n",
      " |  \n",
      " |  __weakref__\n",
      " |      list of weak references to the object (if defined)\n",
      " |  \n",
      " |  ----------------------------------------------------------------------\n",
      " |  Data and other attributes inherited from Employee:\n",
      " |  \n",
      " |  num_of_employess = 2\n",
      " |  \n",
      " |  raise_amount = 1.04\n",
      "\n",
      "None\n"
     ]
    }
   ],
   "source": [
    "class Employee():\n",
    "    raise_amount= 1.04\n",
    "    num_of_employess=0\n",
    "    def __init__(self,first,last,pay):\n",
    "        self.first=first\n",
    "        self.last=last\n",
    "        self.pay=pay\n",
    "        self.email=first+\".\"+last+'@gmail.com'\n",
    "        Employee.num_of_employess += 1\n",
    "        \n",
    "    def fullname(self):\n",
    "        return f'{self.first} {self.last} {self.email}'\n",
    "    \n",
    "    def apply_raise(self):\n",
    "        self.pay = int(self.pay * self.raise_amount)\n",
    "        \n",
    "        \n",
    "class Developer(Employee):\n",
    "    pass\n",
    "\n",
    "\n",
    "emp_1=Employee('Akhil','Dudhe',3000)\n",
    "emp_2=Employee('Suresh','Patel',4000)\n",
    "\n",
    "print(help(Developer))"
   ]
  },
  {
   "cell_type": "code",
   "execution_count": 13,
   "metadata": {},
   "outputs": [
    {
     "name": "stdout",
     "output_type": "stream",
     "text": [
      "{'first': 'Sue', 'last': 'Smith', 'pay': 900000, 'email': 'Sue.Smith@gmail.com', 'employees': [<__main__.Developer object at 0x0000022BE7D72DA0>, <__main__.Developer object at 0x0000022BE7D727B8>]}\n"
     ]
    }
   ],
   "source": [
    "class Employee():\n",
    "    raise_amount= 1.04\n",
    "    num_of_employess=0\n",
    "    def __init__(self,first,last,pay):\n",
    "        self.first=first\n",
    "        self.last=last\n",
    "        self.pay=pay\n",
    "        self.email=first+\".\"+last+'@gmail.com'\n",
    "        Employee.num_of_employess += 1\n",
    "        \n",
    "    def fullname(self):\n",
    "        return f'{self.first} {self.last} {self.email}'\n",
    "    \n",
    "    def apply_raise(self):\n",
    "        self.pay = int(self.pay * self.raise_amount)\n",
    "        \n",
    "        \n",
    "class Developer(Employee):\n",
    "    raise_amount=1.25\n",
    "    def __init__(self,first,last,pay,prog_lang):\n",
    "#         Employee.__init__(first,last,pay)\n",
    "        super().__init__(first,last,pay)\n",
    "        self.prog_lang=prog_lang\n",
    "\n",
    "class Manager(Employee):\n",
    "    def __init__(self,first,last,pay,employees=None):\n",
    "        super().__init__(first,last,pay)\n",
    "        if employees is None:\n",
    "            self.employees=[]\n",
    "        else:\n",
    "            self.employees=employees\n",
    "        \n",
    "    def add_emp(self,emp):\n",
    "        if emp not in self.employees:\n",
    "            self.employees.append(emp)\n",
    "    \n",
    "    def remove_emp(self,emp):\n",
    "        if emp not in self.employees:\n",
    "            self.employees.remove(emp)\n",
    "    \n",
    "    def print_emp(self):\n",
    "        for emp in self.employees:\n",
    "            print('-->',emp.fullname())\n",
    "    \n",
    "\n",
    "\n",
    "\n",
    "dev_1=Developer('Akhil','Dudhe',3000,'Python')\n",
    "dev_2=Developer('Suresh','Patel',4000,'Java')\n",
    "\n",
    "mgr_1=Manager('Sue','Smith',900000,[dev_1])\n",
    "mgr_1.add_emp(dev_2)\n",
    "\n",
    "print(mgr_1.__dict__)\n"
   ]
  },
  {
   "cell_type": "code",
   "execution_count": 14,
   "metadata": {},
   "outputs": [
    {
     "name": "stdout",
     "output_type": "stream",
     "text": [
      "{'first': 'Sue', 'last': 'Smith', 'pay': 900000, 'email': 'Sue.Smith@gmail.com', 'employees': [<__main__.Developer object at 0x0000022BE7DA2630>, <__main__.Developer object at 0x0000022BE7DA2C18>]}\n",
      "\n",
      "True\n",
      "\n",
      "False\n",
      "\n",
      "True\n",
      "\n",
      "False\n"
     ]
    }
   ],
   "source": [
    "class Employee():\n",
    "    raise_amount= 1.04\n",
    "    num_of_employess=0\n",
    "    def __init__(self,first,last,pay):\n",
    "        self.first=first\n",
    "        self.last=last\n",
    "        self.pay=pay\n",
    "        self.email=first+\".\"+last+'@gmail.com'\n",
    "        Employee.num_of_employess += 1\n",
    "        \n",
    "    def fullname(self):\n",
    "        return f'{self.first} {self.last} {self.email}'\n",
    "    \n",
    "    def apply_raise(self):\n",
    "        self.pay = int(self.pay * self.raise_amount)\n",
    "        \n",
    "        \n",
    "class Developer(Employee):\n",
    "    raise_amount=1.25\n",
    "    def __init__(self,first,last,pay,prog_lang):\n",
    "#         Employee.__init__(first,last,pay)\n",
    "        super().__init__(first,last,pay)\n",
    "        self.prog_lang=prog_lang\n",
    "\n",
    "class Manager(Employee):\n",
    "    def __init__(self,first,last,pay,employees=None):\n",
    "        super().__init__(first,last,pay)\n",
    "        if employees is None:\n",
    "            self.employees=[]\n",
    "        else:\n",
    "            self.employees=employees\n",
    "        \n",
    "    def add_emp(self,emp):\n",
    "        if emp not in self.employees:\n",
    "            self.employees.append(emp)\n",
    "    \n",
    "    def remove_emp(self,emp):\n",
    "        if emp not in self.employees:\n",
    "            self.employees.remove(emp)\n",
    "    \n",
    "    def print_emp(self):\n",
    "        for emp in self.employees:\n",
    "            print('-->',emp.fullname())\n",
    "    \n",
    "\n",
    "\n",
    "\n",
    "dev_1=Developer('Akhil','Dudhe',3000,'Python')\n",
    "dev_2=Developer('Suresh','Patel',4000,'Java')\n",
    "\n",
    "mgr_1=Manager('Sue','Smith',900000,[dev_1])\n",
    "mgr_1.add_emp(dev_2)\n",
    "\n",
    "print(mgr_1.__dict__)\n",
    "print()\n",
    "print(isinstance(mgr_1,Manager))\n",
    "print()\n",
    "print(isinstance(mgr_1,Developer))\n",
    "print()\n",
    "print(issubclass(Developer, Employee))\n",
    "print()\n",
    "print(issubclass(Manager, Developer))"
   ]
  },
  {
   "cell_type": "markdown",
   "metadata": {},
   "source": [
    "# Python OOP Tutorial 5- Special (Magic-Dunder) Methods"
   ]
  },
  {
   "cell_type": "code",
   "execution_count": 30,
   "metadata": {},
   "outputs": [
    {
     "name": "stdout",
     "output_type": "stream",
     "text": [
      "6\n",
      "11\n",
      "ab\n",
      "ab\n",
      "10\n",
      "10\n"
     ]
    }
   ],
   "source": [
    "print(1+5)\n",
    "print(int.__add__(5,6))\n",
    "print('a'+'b')\n",
    "print(str.__add__('a','b'))\n",
    "print(len(\"akhilDudhe\"))\n",
    "print(\"akhilDudhe\".__len__())"
   ]
  },
  {
   "cell_type": "code",
   "execution_count": 32,
   "metadata": {},
   "outputs": [
    {
     "name": "stdout",
     "output_type": "stream",
     "text": [
      "Employee('Akhil','Dudhe','3000')\n",
      "\n",
      "Employee('<bound method Employee.fullname of Employee('Akhil','Dudhe','3000')>-Akhil.Dudhe@gmail.com')\n",
      "\n",
      "7000\n",
      "\n",
      "33\n"
     ]
    }
   ],
   "source": [
    "class Employee():\n",
    "    raise_amount= 1.04\n",
    "    num_of_employess=0\n",
    "    def __init__(self,first,last,pay):\n",
    "        self.first=first\n",
    "        self.last=last\n",
    "        self.pay=pay\n",
    "        self.email=first+\".\"+last+'@gmail.com'\n",
    "        Employee.num_of_employess += 1\n",
    "        \n",
    "    def fullname(self):\n",
    "        return f'{self.first} {self.last} {self.email}'\n",
    "    \n",
    "    def apply_raise(self):\n",
    "        self.pay = int(self.pay * self.raise_amount)\n",
    "    \n",
    "    def __repr__(self):\n",
    "        return \"Employee('{}','{}','{}')\".format(self.first,self.last,self.pay)\n",
    "    def __str__(self):\n",
    "        return \"Employee('{}-{}')\".format(self.fullname,self.email)\n",
    "    \n",
    "    def __add__(self,other):\n",
    "        return self.pay+other.pay\n",
    "    def __len__(self):\n",
    "        return len(self.fullname())\n",
    "\n",
    "emp_1=Employee('Akhil','Dudhe',3000)\n",
    "emp_2=Employee('Suresh','Patel',4000)\n",
    "print(repr(emp_1))\n",
    "print()\n",
    "print(str(emp_1))\n",
    "print()\n",
    "print(emp_1.pay+emp_2.pay)\n",
    "print()\n",
    "print(len(emp_1))\n"
   ]
  },
  {
   "cell_type": "markdown",
   "metadata": {},
   "source": [
    "# Python OOP Tutorial 6- Property Decorators - Getters, Setters, and Deleters"
   ]
  },
  {
   "cell_type": "code",
   "execution_count": 1,
   "metadata": {},
   "outputs": [
    {
     "name": "stdout",
     "output_type": "stream",
     "text": [
      "Carry Doe Carry.Doe@gmail.com\n",
      "Carry.Doe@gmail.com\n"
     ]
    }
   ],
   "source": [
    "class Employee():\n",
    "    raise_amount= 1.04\n",
    "    num_of_employess=0\n",
    "    def __init__(self,first,last,pay):\n",
    "        self.first=first\n",
    "        self.last=last\n",
    "        self.pay=pay\n",
    "        Employee.num_of_employess += 1\n",
    "    \n",
    "    def email(self):\n",
    "        return f'{self.first}.{self.last}@gmail.com'\n",
    "    \n",
    "    def fullname(self):\n",
    "        return f'{self.first} {self.last} {self.email()}'\n",
    "\n",
    "emp_1=Employee('John','Doe',3456)\n",
    "emp_1.first='Carry'\n",
    "print(emp_1.fullname())\n",
    "print(emp_1.email())"
   ]
  },
  {
   "cell_type": "markdown",
   "metadata": {},
   "source": [
    "### Getter"
   ]
  },
  {
   "cell_type": "code",
   "execution_count": 43,
   "metadata": {},
   "outputs": [
    {
     "name": "stdout",
     "output_type": "stream",
     "text": [
      "Carry Doe Carry.Doe@gmail.com\n",
      "Carry.Doe@gmail.com\n"
     ]
    }
   ],
   "source": [
    "class Employee():\n",
    "    raise_amount= 1.04\n",
    "    num_of_employess=0\n",
    "    def __init__(self,first,last,pay):\n",
    "        self.first=first\n",
    "        self.last=last\n",
    "        self.pay=pay\n",
    "        Employee.num_of_employess += 1\n",
    "    @property\n",
    "    def email(self):\n",
    "        return f'{self.first}.{self.last}@gmail.com'\n",
    "    @property\n",
    "    def fullname(self):\n",
    "        return f'{self.first} {self.last} {self.email}'\n",
    "\n",
    "emp_1=Employee('John','Doe',3456)\n",
    "emp_1.first='Carry'\n",
    "print(emp_1.fullname)\n",
    "print(emp_1.email)"
   ]
  },
  {
   "cell_type": "markdown",
   "metadata": {},
   "source": [
    "### Setter"
   ]
  },
  {
   "cell_type": "code",
   "execution_count": 45,
   "metadata": {},
   "outputs": [
    {
     "name": "stdout",
     "output_type": "stream",
     "text": [
      "Carry Doe Carry.Doe@gmail.com\n",
      "Carry.Doe@gmail.com\n",
      "Akhil Dudhe Akhil.Dudhe@gmail.com\n"
     ]
    }
   ],
   "source": [
    "class Employee():\n",
    "    raise_amount= 1.04\n",
    "    num_of_employess=0\n",
    "    def __init__(self,first,last,pay):\n",
    "        self.first=first\n",
    "        self.last=last\n",
    "        self.pay=pay\n",
    "        Employee.num_of_employess += 1\n",
    "    @property\n",
    "    def email(self):\n",
    "        return f'{self.first}.{self.last}@gmail.com'\n",
    "    @property\n",
    "    def fullname(self):\n",
    "        return f'{self.first} {self.last} {self.email}'\n",
    "    \n",
    "    @fullname.setter\n",
    "    def fullname(self,name):\n",
    "        first,last=name.split(\" \")\n",
    "        self.first = first\n",
    "        self.last = last\n",
    "\n",
    "emp_1=Employee('John','Doe',3456)\n",
    "emp_1.first='Carry'\n",
    "print(emp_1.fullname)\n",
    "print(emp_1.email)\n",
    "\n",
    "emp_1.fullname=\"Akhil Dudhe\"\n",
    "print(emp_1.fullname)"
   ]
  },
  {
   "cell_type": "markdown",
   "metadata": {},
   "source": [
    "### Deleter"
   ]
  },
  {
   "cell_type": "code",
   "execution_count": 5,
   "metadata": {},
   "outputs": [
    {
     "name": "stdout",
     "output_type": "stream",
     "text": [
      "Carry Doe Carry.Doe@gmail.com\n",
      "Carry.Doe@gmail.com\n",
      "Akhil Dudhe Akhil.Dudhe@gmail.com\n"
     ]
    }
   ],
   "source": [
    "class Employee():\n",
    "    raise_amount= 1.04\n",
    "    num_of_employess=0\n",
    "    def __init__(self,first,last,pay):\n",
    "        self.first=first\n",
    "        self.last=last\n",
    "        self.pay=pay\n",
    "        Employee.num_of_employess += 1\n",
    "    @property\n",
    "    def email(self):\n",
    "        return f'{self.first}.{self.last}@gmail.com'\n",
    "    @property\n",
    "    def fullname(self):\n",
    "        return f'{self.first} {self.last} {self.email}'\n",
    "    \n",
    "    @fullname.setter\n",
    "    def fullname(self,name):\n",
    "        first,last=name.split(\" \")\n",
    "        self.first = first\n",
    "        self.last = last\n",
    "    @fullname.deleter\n",
    "    def fullname(self):\n",
    "        print('Delete Name!')\n",
    "        self.name=None\n",
    "        self.last=None\n",
    "        self.pay=None\n",
    "\n",
    "emp_1=Employee('John','Doe',3456)\n",
    "emp_1.first='Carry'\n",
    "print(emp_1.fullname)\n",
    "print(emp_1.email)\n",
    "\n",
    "emp_1.fullname=\"Akhil Dudhe\"\n",
    "print(emp_1.fullname)"
   ]
  },
  {
   "cell_type": "markdown",
   "metadata": {},
   "source": [
    "# First Class Funtion"
   ]
  },
  {
   "cell_type": "code",
   "execution_count": 69,
   "metadata": {},
   "outputs": [
    {
     "name": "stdout",
     "output_type": "stream",
     "text": [
      "25\n"
     ]
    }
   ],
   "source": [
    "# First Class Function are fucntion which are assigned to a variable which in place act as a function\n",
    "\n",
    "def square(x):\n",
    "    return x*x\n",
    "\n",
    "f=square\n",
    "print(f(5))\n",
    "\n"
   ]
  },
  {
   "cell_type": "code",
   "execution_count": 73,
   "metadata": {},
   "outputs": [
    {
     "name": "stdout",
     "output_type": "stream",
     "text": [
      "[1, 4, 9, 16, 25]\n"
     ]
    }
   ],
   "source": [
    "# A function that accepts argument as funtion and retun fuctions as result, such fucntion as Higher Order Function\n",
    "\n",
    "def square(x):\n",
    "    return x*x\n",
    "def cube(x):\n",
    "    return x*x*x\n",
    "\n",
    "def my_map(func,arg_list):\n",
    "    result=[]\n",
    "    for i in arg_list:\n",
    "        result.append(func(i))\n",
    "    return result\n",
    "\n",
    "squres=my_map(square,[1,2,3,4,5])\n",
    "print(squres)\n"
   ]
  },
  {
   "cell_type": "code",
   "execution_count": 74,
   "metadata": {},
   "outputs": [
    {
     "name": "stdout",
     "output_type": "stream",
     "text": [
      "Log:  Hi!\n"
     ]
    }
   ],
   "source": [
    "def logger(msg):\n",
    "    def log_message():\n",
    "        print('Log: ', msg)\n",
    "    return log_message\n",
    "\n",
    "log_hi= logger(\"Hi!\")\n",
    "log_hi()"
   ]
  },
  {
   "cell_type": "markdown",
   "metadata": {},
   "source": [
    "# Closure "
   ]
  },
  {
   "cell_type": "code",
   "execution_count": 1,
   "metadata": {},
   "outputs": [],
   "source": [
    "# A closure is a record storing a function together with an environment\n",
    "# A closure is a inner function that remember and has an access to variables in the local scope in which it is created even after outer function has finesh executing\n",
    "# A closure closes over the free variable from their environment"
   ]
  },
  {
   "cell_type": "code",
   "execution_count": 3,
   "metadata": {},
   "outputs": [
    {
     "name": "stdout",
     "output_type": "stream",
     "text": [
      "inner_func\n"
     ]
    }
   ],
   "source": [
    "def outer_func():\n",
    "    message=\"HI\"\n",
    "    \n",
    "    def inner_func():\n",
    "        print(message)\n",
    "    return inner_func\n",
    "\n",
    "my_func=outer_func()\n",
    "print(my_func.__name__)"
   ]
  },
  {
   "cell_type": "code",
   "execution_count": null,
   "metadata": {},
   "outputs": [],
   "source": []
  },
  {
   "cell_type": "code",
   "execution_count": 14,
   "metadata": {},
   "outputs": [
    {
     "name": "stdout",
     "output_type": "stream",
     "text": [
      "hi\n",
      "inner_func\n"
     ]
    }
   ],
   "source": [
    "def outer_func(msg):\n",
    "    message=msg\n",
    "    \n",
    "    def inner_func():\n",
    "        print(message)\n",
    "    return inner_func\n",
    "\n",
    "my_func=outer_func(\"hi\")\n",
    "my_func()\n",
    "print(my_func.__name__)"
   ]
  },
  {
   "cell_type": "code",
   "execution_count": null,
   "metadata": {},
   "outputs": [],
   "source": [
    "def outer_func(msg):\n",
    "    def inner_func():\n",
    "        print(msg)\n",
    "    return inner_func\n",
    "\n",
    "my_func=outer_func()\n",
    "print(my_func.__name__)"
   ]
  },
  {
   "cell_type": "code",
   "execution_count": 8,
   "metadata": {},
   "outputs": [
    {
     "name": "stdout",
     "output_type": "stream",
     "text": [
      "<h1>Heading Statment</h1>\n"
     ]
    }
   ],
   "source": [
    "def html_tag(tag):\n",
    "    def wrap_text(msg):\n",
    "        print(f\"<{tag}>{msg}</{tag}>\")\n",
    "    return wrap_text\n",
    "\n",
    "print_h1=html_tag('h1')\n",
    "print_h1('Heading Statment')"
   ]
  },
  {
   "cell_type": "code",
   "execution_count": 11,
   "metadata": {},
   "outputs": [
    {
     "name": "stdout",
     "output_type": "stream",
     "text": [
      "6\n",
      "9\n",
      "3\n",
      "10\n"
     ]
    }
   ],
   "source": [
    "import logging\n",
    "logging.basicConfig(filename=\"exmaple.log\", level=logging.INFO)\n",
    "\n",
    "def logger(func):\n",
    "    def log_func(*args):\n",
    "        logging.info('Running \"{}\" with arguments {}'.format(func.__name__,args))\n",
    "        print(func(*args))\n",
    "    return log_func\n",
    "\n",
    "def add(x,y):\n",
    "    return x+y\n",
    "def sub(x,y):\n",
    "    return x-y\n",
    "add_logger=logger(add)\n",
    "sub_logger=logger(sub)\n",
    "\n",
    "add_logger(3,3)\n",
    "add_logger(4,5)\n",
    "sub_logger(5,2)\n",
    "sub_logger(20,10)"
   ]
  },
  {
   "cell_type": "markdown",
   "metadata": {},
   "source": [
    "# Decorators"
   ]
  },
  {
   "cell_type": "code",
   "execution_count": 21,
   "metadata": {},
   "outputs": [
    {
     "name": "stdout",
     "output_type": "stream",
     "text": [
      "wrapper is executing before display function\n",
      "display function ran\n"
     ]
    }
   ],
   "source": [
    "\n",
    "def decorator_function(original_function):\n",
    "    def wrapper_function():\n",
    "        print('wrapper is executing before display function')\n",
    "        return original_function()\n",
    "    return wrapper_function\n",
    "\n",
    "def display():\n",
    "    print('display function ran')\n",
    "    \n",
    "decorated_display=decorator_function(display)\n",
    "decorated_display()\n",
    "display()\n",
    "\n",
    "\n",
    "\n",
    "\n",
    "\n"
   ]
  },
  {
   "cell_type": "code",
   "execution_count": 7,
   "metadata": {},
   "outputs": [
    {
     "name": "stdout",
     "output_type": "stream",
     "text": [
      "wrapper is executing before display function\n",
      "akhil 28\n"
     ]
    }
   ],
   "source": [
    "\n",
    "def decorator_function(original_function):\n",
    "    def wrapper_function(*args,**kwargs):\n",
    "        print('wrapper is executing before display function')\n",
    "        return original_function(*args,**kwargs)\n",
    "    return wrapper_function\n",
    "\n",
    "def display(name,age):\n",
    "    print(name,age)\n",
    "    \n",
    "decorated_display=decorator_function(display)\n",
    "decorated_display(\"akhil\",28)\n",
    "\n",
    "\n"
   ]
  },
  {
   "cell_type": "code",
   "execution_count": 22,
   "metadata": {},
   "outputs": [
    {
     "name": "stdout",
     "output_type": "stream",
     "text": [
      "wrapper is executing before display function\n",
      "display function ran\n"
     ]
    }
   ],
   "source": [
    "#Function as a Decorator\n",
    "def decorator_function(original_function):\n",
    "    def wrapper_function():\n",
    "        print('wrapper is executing before display function')\n",
    "        return original_function()\n",
    "    return wrapper_function\n",
    "\n",
    "@decorator_function\n",
    "def display():\n",
    "    print('display function ran')\n",
    "    \n",
    "display()\n"
   ]
  },
  {
   "cell_type": "code",
   "execution_count": 25,
   "metadata": {},
   "outputs": [
    {
     "name": "stdout",
     "output_type": "stream",
     "text": [
      "wrapper is executing before display function\n",
      "display_info ran with arguments(john,25)\n"
     ]
    }
   ],
   "source": [
    "#Function as a Decorator\n",
    "\n",
    "def decorator_function(original_function):\n",
    "    def wrapper_function(*args,**kwargs):\n",
    "        print('wrapper is executing before display function')\n",
    "        return original_function(*args,**kwargs)\n",
    "    return wrapper_function\n",
    "\n",
    "@decorator_function\n",
    "def display():\n",
    "    print('display function ran')\n",
    "\n",
    "@decorator_function\n",
    "def display_info(name,age):\n",
    "    print(\"display_info ran with arguments({},{})\".format(name,age))\n",
    "    \n",
    "display_info('john',25)\n",
    "\n"
   ]
  },
  {
   "cell_type": "code",
   "execution_count": 27,
   "metadata": {},
   "outputs": [
    {
     "name": "stdout",
     "output_type": "stream",
     "text": [
      "call method executed this befor display_info\n",
      "display_info ran with arguments(john,25)\n",
      "\n",
      "call method executed this befor display\n",
      "display function ran\n"
     ]
    }
   ],
   "source": [
    "#Class as a Decorator\n",
    "def decorator_function(original_function):\n",
    "    def wrapper_function(*args,**kwargs):\n",
    "        print('wrapper is executing before display function')\n",
    "        return original_function(*args,**kwargs)\n",
    "    return wrapper_function\n",
    "\n",
    "class decorator_class(object):\n",
    "    def __init__(self, original_funtion):\n",
    "        self.original_function=original_funtion\n",
    "    def __call__(self,*args,**kwargs):\n",
    "        print('call method executed this befor {}'.format(self.original_function.__name__))\n",
    "        return self.original_function(*args,**kwargs)\n",
    "    \n",
    "\n",
    "@decorator_class\n",
    "def display():\n",
    "    print('display function ran')\n",
    "\n",
    "@decorator_class\n",
    "def display_info(name,age):\n",
    "    print(\"display_info ran with arguments({},{})\".format(name,age))\n",
    "    \n",
    "display_info('john',25)\n",
    "print()\n",
    "display()\n"
   ]
  },
  {
   "cell_type": "code",
   "execution_count": 4,
   "metadata": {},
   "outputs": [
    {
     "name": "stdout",
     "output_type": "stream",
     "text": [
      "display_info ran with arguments(Thames,25)\n"
     ]
    }
   ],
   "source": [
    "def my_logger(orig_func):\n",
    "    import logging\n",
    "    logging.basicConfig(filename='{}.log'.format(orig_func.__name__),level=logging.INFO)\n",
    "    \n",
    "    def wrapper(*args,**kwargs):\n",
    "        logging.info('Ran with args:{}, and kwargs: {}'.format(args,kwargs))\n",
    "        return orig_func(*args,**kwargs)\n",
    "    \n",
    "    return wrapper\n",
    "\n",
    "def my_timer(orig_func):\n",
    "    import time\n",
    "    \n",
    "    def wrapper(*args,**kwargs):\n",
    "        t1=time.time()\n",
    "        result=orig_func(*args,**kwargs)\n",
    "        t2=time.time()-t1\n",
    "        \n",
    "        print('{} ran in: {} sec'.format(orig_func.__name__,t2))\n",
    "        return wrapper\n",
    "    \n",
    "    \n",
    "        \n",
    "# def display():\n",
    "#     print('display function ran')  \n",
    "\n",
    "@my_logger\n",
    "def display_info(name,age):\n",
    "    print(\"display_info ran with arguments({},{})\".format(name,age))\n",
    "        \n",
    "\n",
    "display_info('Thames',25)  \n"
   ]
  },
  {
   "cell_type": "code",
   "execution_count": 6,
   "metadata": {},
   "outputs": [
    {
     "name": "stdout",
     "output_type": "stream",
     "text": [
      "display_info ran with arguments(Thames,25)\n",
      "display_info ran in: 1.0013220310211182 sec\n"
     ]
    }
   ],
   "source": [
    "def my_logger(orig_func):\n",
    "    import logging\n",
    "    logging.basicConfig(filename='{}.log'.format(orig_func.__name__),level=logging.INFO)\n",
    "    \n",
    "    def wrapper(*args,**kwargs):\n",
    "        logging.info('Ran with args:{}, and kwargs: {}'.format(args,kwargs))\n",
    "        return orig_func(*args,**kwargs)\n",
    "    \n",
    "    return wrapper\n",
    "\n",
    "def my_timer(orig_func):\n",
    "    import time\n",
    "    \n",
    "    def wrapper(*args,**kwargs):\n",
    "        t1=time.time()\n",
    "        result=orig_func(*args,**kwargs)\n",
    "        t2=time.time()-t1\n",
    "        \n",
    "        print('{} ran in: {} sec'.format(orig_func.__name__,t2))\n",
    "        return result\n",
    "    return wrapper\n",
    "    \n",
    "    \n",
    "        \n",
    "# def display():\n",
    "#     print('display function ran')  \n",
    "import time\n",
    "@my_timer\n",
    "def display_info(name,age):\n",
    "    time.sleep(1)\n",
    "    print(\"display_info ran with arguments({},{})\".format(name,age))\n",
    "         \n",
    "\n",
    "display_info('Thames',25)  "
   ]
  },
  {
   "cell_type": "code",
   "execution_count": 9,
   "metadata": {},
   "outputs": [
    {
     "name": "stdout",
     "output_type": "stream",
     "text": [
      "display_info\n"
     ]
    }
   ],
   "source": [
    "from functools import wraps\n",
    "\n",
    "def my_logger(orig_func):\n",
    "    import logging\n",
    "    logging.basicConfig(filename='{}.log'.format(orig_func.__name__),level=logging.INFO)\n",
    "    \n",
    "    @wraps(orig_func)\n",
    "    def wrapper(*args,**kwargs):\n",
    "        logging.info('Ran with args:{}, and kwargs: {}'.format(args,kwargs))\n",
    "        return orig_func(*args,**kwargs)\n",
    "    \n",
    "    return wrapper\n",
    "\n",
    "def my_timer(orig_func):\n",
    "    import time\n",
    "    \n",
    "    @wraps(orig_func)\n",
    "    def wrapper(*args,**kwargs):\n",
    "        t1=time.time()\n",
    "        result=orig_func(*args,**kwargs)\n",
    "        t2=time.time()-t1\n",
    "        \n",
    "        print('{} ran in: {} sec'.format(orig_func.__name__,t2))\n",
    "        return result\n",
    "    return wrapper\n",
    "    \n",
    "    \n",
    "        \n",
    "# def display():\n",
    "#     print('display function ran')  \n",
    "import time\n",
    "\n",
    "@my_timer\n",
    "@my_logger\n",
    "def display_info(name,age):\n",
    "    time.sleep(1)\n",
    "    print(\"display_info ran with arguments({},{})\".format(name,age))\n",
    "         \n",
    "disply_info=my_timer(display_info)\n",
    "print(disply_info.__name__)\n",
    "# display_info('Thames',25)  \n"
   ]
  },
  {
   "cell_type": "code",
   "execution_count": 2,
   "metadata": {},
   "outputs": [
    {
     "ename": "SyntaxError",
     "evalue": "invalid syntax (<ipython-input-2-714474603ffd>, line 2)",
     "output_type": "error",
     "traceback": [
      "\u001b[1;36m  File \u001b[1;32m\"<ipython-input-2-714474603ffd>\"\u001b[1;36m, line \u001b[1;32m2\u001b[0m\n\u001b[1;33m    print(if a>20: \"1\" else: \"2\")\u001b[0m\n\u001b[1;37m           ^\u001b[0m\n\u001b[1;31mSyntaxError\u001b[0m\u001b[1;31m:\u001b[0m invalid syntax\n"
     ]
    }
   ],
   "source": [
    "a=20\n",
    "print(if a>20: \"1\" else: \"2\")"
   ]
  },
  {
   "cell_type": "code",
   "execution_count": 2,
   "metadata": {},
   "outputs": [
    {
     "name": "stdout",
     "output_type": "stream",
     "text": [
      "hi akhil\n"
     ]
    }
   ],
   "source": [
    "def outer_func(out_msg):\n",
    "    def inner_func(in_msg):\n",
    "        print(out_msg+\" \"+in_msg)\n",
    "    return inner_func\n",
    "\n",
    "hi_func= outer_func(\"hi\")\n",
    "hello_func= outer_func(\"hello\")\n",
    "\n",
    "hi_func(\"akhil\")\n",
    "hello_func(\"akhil\")"
   ]
  },
  {
   "cell_type": "markdown",
   "metadata": {},
   "source": [
    " ## Super with class method in it"
   ]
  },
  {
   "cell_type": "code",
   "execution_count": 9,
   "metadata": {},
   "outputs": [
    {
     "name": "stdout",
     "output_type": "stream",
     "text": [
      "Child __init__ is called\n",
      "parent1 __init__ is called\n",
      "parent2 __init__ is called\n"
     ]
    }
   ],
   "source": [
    "class parent1:\n",
    "    def __init__(self,name):\n",
    "        print(\"parent1 __init__ is called\")\n",
    "class parent2:\n",
    "    def __init__(self,name):\n",
    "        print(\"parent2 __init__ is called\")\n",
    "        \n",
    "class child(parent1,parent2):\n",
    "    def __init__(self):\n",
    "        print(\"Child __init__ is called\")\n",
    "        parent1.__init__(self,\"max\")\n",
    "        parent2.__init__(self,\"tom\")\n",
    "        \n",
    "chil= child()\n"
   ]
  },
  {
   "cell_type": "code",
   "execution_count": 10,
   "metadata": {},
   "outputs": [
    {
     "data": {
      "text/plain": [
       "{}"
      ]
     },
     "execution_count": 10,
     "metadata": {},
     "output_type": "execute_result"
    }
   ],
   "source": [
    "chil.__dict__"
   ]
  },
  {
   "cell_type": "code",
   "execution_count": 2,
   "metadata": {},
   "outputs": [],
   "source": [
    "def square(x):\n",
    "    return x*x\n",
    "\n",
    "y=square(3)"
   ]
  },
  {
   "cell_type": "code",
   "execution_count": 3,
   "metadata": {},
   "outputs": [
    {
     "name": "stdout",
     "output_type": "stream",
     "text": [
      "9\n"
     ]
    }
   ],
   "source": [
    "print(y)"
   ]
  },
  {
   "cell_type": "code",
   "execution_count": null,
   "metadata": {},
   "outputs": [],
   "source": []
  }
 ],
 "metadata": {
  "kernelspec": {
   "display_name": "Python 3",
   "language": "python",
   "name": "python3"
  },
  "language_info": {
   "codemirror_mode": {
    "name": "ipython",
    "version": 3
   },
   "file_extension": ".py",
   "mimetype": "text/x-python",
   "name": "python",
   "nbconvert_exporter": "python",
   "pygments_lexer": "ipython3",
   "version": "3.7.7"
  }
 },
 "nbformat": 4,
 "nbformat_minor": 2
}
