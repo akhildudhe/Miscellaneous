{
 "cells": [
  {
   "cell_type": "code",
   "execution_count": 1,
   "metadata": {},
   "outputs": [
    {
     "name": "stdout",
     "output_type": "stream",
     "text": [
      "Akhil Dudhe is a nice guy\n"
     ]
    }
   ],
   "source": [
    "fname=\"Akhil\"\n",
    "lname=\"Dudhe\"\n",
    "\n",
    "print('{} {} is a nice guy'.format(fname,lname))"
   ]
  },
  {
   "cell_type": "code",
   "execution_count": 5,
   "metadata": {},
   "outputs": [
    {
     "name": "stdout",
     "output_type": "stream",
     "text": [
      "Akhil Dudhe is a nice guy\n"
     ]
    }
   ],
   "source": [
    "print(s'{fname} {lname} is a nice guy')"
   ]
  },
  {
   "cell_type": "code",
   "execution_count": 3,
   "metadata": {},
   "outputs": [
    {
     "name": "stdout",
     "output_type": "stream",
     "text": [
      "Akhil Dudhe is a nice guy\n"
     ]
    }
   ],
   "source": [
    "print(fname+\" \"+lname+\" is a nice guy\")"
   ]
  },
  {
   "cell_type": "code",
   "execution_count": 9,
   "metadata": {},
   "outputs": [
    {
     "name": "stdout",
     "output_type": "stream",
     "text": [
      "AKHIL dudhe is a nice guy\n"
     ]
    }
   ],
   "source": [
    "print(f'{fname.upper()} {lname.lower()} is a nice guy')"
   ]
  },
  {
   "cell_type": "code",
   "execution_count": 4,
   "metadata": {},
   "outputs": [
    {
     "name": "stdout",
     "output_type": "stream",
     "text": [
      "AKHIL DUDHE is a nice guy\n"
     ]
    }
   ],
   "source": [
    "print(f'{fname.upper()} {lname.upper()} is a nice guy')"
   ]
  },
  {
   "cell_type": "code",
   "execution_count": 5,
   "metadata": {},
   "outputs": [
    {
     "name": "stdout",
     "output_type": "stream",
     "text": [
      "My name is Akhil and I am 28 years old\n"
     ]
    }
   ],
   "source": [
    "person={'name':'Akhil','age':28}\n",
    "\n",
    "print('My name is {} and I am {} years old'.format(person['name'],person['age']))"
   ]
  },
  {
   "cell_type": "code",
   "execution_count": 7,
   "metadata": {},
   "outputs": [
    {
     "name": "stdout",
     "output_type": "stream",
     "text": [
      "My name is Akhil and I am 28 years old\n"
     ]
    }
   ],
   "source": [
    "print(f'My name is {person[\"name\"]} and I am {person[\"age\"]} years old')"
   ]
  },
  {
   "cell_type": "code",
   "execution_count": 8,
   "metadata": {},
   "outputs": [
    {
     "name": "stdout",
     "output_type": "stream",
     "text": [
      "4 time 11 is 44\n"
     ]
    }
   ],
   "source": [
    "print(f'4 time 11 is {4*11}')"
   ]
  },
  {
   "cell_type": "code",
   "execution_count": 9,
   "metadata": {},
   "outputs": [
    {
     "name": "stdout",
     "output_type": "stream",
     "text": [
      " The value is 01\n",
      " The value is 02\n",
      " The value is 03\n",
      " The value is 04\n",
      " The value is 05\n",
      " The value is 06\n",
      " The value is 07\n",
      " The value is 08\n",
      " The value is 09\n",
      " The value is 10\n"
     ]
    }
   ],
   "source": [
    "for n in range(1,11):\n",
    "    print(f' The value is {n:02}')"
   ]
  },
  {
   "cell_type": "code",
   "execution_count": 12,
   "metadata": {},
   "outputs": [
    {
     "name": "stdout",
     "output_type": "stream",
     "text": [
      "Pi is equal to 3.124\n"
     ]
    }
   ],
   "source": [
    "pi=3.12445322\n",
    "\n",
    "print(f'Pi is equal to {pi:.3f}')"
   ]
  },
  {
   "cell_type": "code",
   "execution_count": 13,
   "metadata": {},
   "outputs": [
    {
     "name": "stdout",
     "output_type": "stream",
     "text": [
      "Jenn has birthday on 1990-01-01 00:00:00\n"
     ]
    }
   ],
   "source": [
    "from datetime import datetime\n",
    "birthday=datetime(1990,1,1)\n",
    "print(f'Jenn has birthday on {birthday}')\n"
   ]
  },
  {
   "cell_type": "code",
   "execution_count": 14,
   "metadata": {},
   "outputs": [
    {
     "name": "stdout",
     "output_type": "stream",
     "text": [
      "Jenn hass birthday on January 01, 1990\n"
     ]
    }
   ],
   "source": [
    "print(f'Jenn hass birthday on {birthday:%B %d, %Y}')"
   ]
  },
  {
   "cell_type": "code",
   "execution_count": null,
   "metadata": {},
   "outputs": [],
   "source": [
    "str"
   ]
  }
 ],
 "metadata": {
  "kernelspec": {
   "display_name": "Python 3",
   "language": "python",
   "name": "python3"
  },
  "language_info": {
   "codemirror_mode": {
    "name": "ipython",
    "version": 3
   },
   "file_extension": ".py",
   "mimetype": "text/x-python",
   "name": "python",
   "nbconvert_exporter": "python",
   "pygments_lexer": "ipython3",
   "version": "3.7.7"
  }
 },
 "nbformat": 4,
 "nbformat_minor": 2
}
